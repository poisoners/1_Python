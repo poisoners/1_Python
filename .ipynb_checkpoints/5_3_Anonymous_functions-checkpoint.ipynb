{
 "cells": [
  {
   "cell_type": "markdown",
   "metadata": {},
   "source": [
    "# 匿名函数\n",
    "\n",
    "当我们在传入函数时，有些时候，不需要显式地定义函数，直接传入匿名函数更方便。\n",
    "\n",
    "在Python中，对匿名函数提供了有限支持。还是以 `map()` 函数为例，计算 `f(x)=x2` 时，除了定义一个 `f(x)` 的函数外，还可以直接传入匿名函数：\n",
    "\n",
    "```python\n",
    ">>> list(map(lambda x: x * x, [1, 2, 3, 4, 5, 6, 7, 8, 9]))\n",
    "[1, 4, 9, 16, 25, 36, 49, 64, 81]```\n",
    "\n",
    "通过对比可以看出，匿名函数 `lambda x: x * x` 实际上就是：\n",
    "\n",
    "```python\n",
    "def f(x):\n",
    "    return x * x```\n",
    "    \n",
    "关键字 `lambda` 表示匿名函数，冒号前面的x表示函数参数。\n",
    "\n",
    "匿名函数有个限制，就是只能有一个表达式，不用写 `return` ，返回值就是该表达式的结果。\n",
    "\n",
    "用匿名函数有个好处，因为函数没有名字，不必担心函数名冲突。此外，匿名函数也是一个函数对象，也可以把匿名函数赋值给一个变量，再利用变量来调用该函数：\n",
    "\n",
    "```python\n",
    ">>> f = lambda x: x * x\n",
    ">>> f\n",
    "<function <lambda> at 0x101c6ef28>\n",
    ">>> f(5)\n",
    "25```\n",
    "\n",
    "同样，也可以把匿名函数作为返回值返回，比如：\n",
    "\n",
    "```python\n",
    "def build(x, y):\n",
    "    return lambda: x * x + y * y```\n",
    "    \n",
    "## 练习\n",
    "\n",
    "请用匿名函数改造下面的代码："
   ]
  },
  {
   "cell_type": "code",
   "execution_count": null,
   "metadata": {},
   "outputs": [],
   "source": [
    "# -*- coding: utf-8 -*-\n",
    "def is_odd(n):\n",
    "    return n % 2 == 1\n",
    "\n",
    "L = list(filter(is_odd, range(1, 20)))\n",
    "\n",
    "print(L)"
   ]
  },
  {
   "cell_type": "markdown",
   "metadata": {},
   "source": [
    "## 小结\n",
    "\n",
    "Python对匿名函数的支持有限，只有一些简单的情况下可以使用匿名函数。"
   ]
  },
  {
   "cell_type": "code",
   "execution_count": null,
   "metadata": {},
   "outputs": [],
   "source": []
  }
 ],
 "metadata": {
  "kernelspec": {
   "display_name": "Python 3",
   "language": "python",
   "name": "python3"
  },
  "language_info": {
   "codemirror_mode": {
    "name": "ipython",
    "version": 3
   },
   "file_extension": ".py",
   "mimetype": "text/x-python",
   "name": "python",
   "nbconvert_exporter": "python",
   "pygments_lexer": "ipython3",
   "version": "3.7.2"
  },
  "toc": {
   "base_numbering": 1,
   "nav_menu": {},
   "number_sections": true,
   "sideBar": true,
   "skip_h1_title": false,
   "title_cell": "Table of Contents",
   "title_sidebar": "Contents",
   "toc_cell": false,
   "toc_position": {},
   "toc_section_display": true,
   "toc_window_display": false
  }
 },
 "nbformat": 4,
 "nbformat_minor": 2
}
