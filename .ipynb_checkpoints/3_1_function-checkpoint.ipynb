{
 "cells": [
  {
   "cell_type": "markdown",
   "metadata": {},
   "source": [
    "# 调用函数\n",
    "\n",
    "## 内置函数\n",
    "\n",
    "Python内置了很多有用的函数，我们可以直接调用。\n",
    "\n",
    "要调用一个函数，需要知道函数的名称和参数，比如求绝对值的函数abs，只有一个参数。可以直接从Python的官方网站查看文档：\n",
    "\n",
    "http://docs.python.org/3/library/functions.html#abs\n",
    "\n",
    "也可以在交互式命令行通过 `help(abs)` 查看 `abs` 函数的帮助信息。\n",
    "\n",
    "调用 `abs` 函数：\n",
    "```Python\n",
    ">>> abs(100)\n",
    "100\n",
    ">>> abs(-20)\n",
    "20\n",
    ">>> abs(12.34)\n",
    "12.34```\n",
    "\n",
    "## 函数的参数\n",
    "\n",
    "调用函数的时候，如果传入的参数数量不对，会报 `TypeError` 的错误，并且Python会明确地告诉你： `abs()` 有且仅有1个参数，但给出了两个：\n",
    "```Python\n",
    ">>> abs(1, 2)\n",
    "Traceback (most recent call last):\n",
    "  File \"<stdin>\", line 1, in <module>\n",
    "TypeError: abs() takes exactly one argument (2 given)```\n",
    "\n",
    "如果传入的参数数量是对的，但参数类型不能被函数所接受，也会报TypeError的错误，并且给出错误信息：str是错误的参数类型：\n",
    "```Python\n",
    ">>> abs('a')\n",
    "Traceback (most recent call last):\n",
    "  File \"<stdin>\", line 1, in <module>\n",
    "TypeError: bad operand type for abs(): 'str'```\n",
    "\n",
    "而max函数max()可以接收任意多个参数，并返回最大的那个：\n",
    "```Python\n",
    ">>> max(1, 2)\n",
    "2\n",
    ">>> max(2, 3, 1, -5)\n",
    "3```\n",
    "\n",
    "## 数据类型转换\n",
    "Python内置的常用函数还包括数据类型转换函数，比如int()函数可以把其他数据类型转换为整数：\n",
    "```Python\n",
    ">>> int('123')\n",
    "123\n",
    ">>> int(12.34)\n",
    "12\n",
    ">>> float('12.34')\n",
    "12.34\n",
    ">>> str(1.23)\n",
    "'1.23'\n",
    ">>> str(100)\n",
    "'100'\n",
    ">>> bool(1)\n",
    "True\n",
    ">>> bool('')\n",
    "False```\n",
    "\n",
    "函数名其实就是指向一个函数对象的引用，完全可以把函数名赋给一个变量，相当于给这个函数起了一个“别名”：\n",
    "```Python\n",
    ">>> a = abs # 变量a指向abs函数\n",
    ">>> a(-1) # 所以也可以通过a调用abs函数\n",
    "1```\n",
    "\n",
    "---\n",
    "## 练习\n",
    "请利用Python内置的hex()函数把一个整数转换成十六进制表示的字符串："
   ]
  },
  {
   "cell_type": "code",
   "execution_count": null,
   "metadata": {},
   "outputs": [],
   "source": [
    "# -*- coding: utf-8 -*-\n",
    "\n",
    "n1 = 255\n",
    "n2 = 1000\n",
    "print(???)"
   ]
  },
  {
   "cell_type": "markdown",
   "metadata": {},
   "source": [
    "---\n",
    "## 小结\n",
    "\n",
    "调用Python的函数，需要根据函数定义，传入正确的参数。如果函数调用出错，一定要学会看错误信息，所以英文很重要！"
   ]
  },
  {
   "cell_type": "code",
   "execution_count": null,
   "metadata": {},
   "outputs": [],
   "source": []
  }
 ],
 "metadata": {
  "kernelspec": {
   "display_name": "Python 3",
   "language": "python",
   "name": "python3"
  },
  "language_info": {
   "codemirror_mode": {
    "name": "ipython",
    "version": 3
   },
   "file_extension": ".py",
   "mimetype": "text/x-python",
   "name": "python",
   "nbconvert_exporter": "python",
   "pygments_lexer": "ipython3",
   "version": "3.7.2"
  },
  "toc": {
   "base_numbering": 1,
   "nav_menu": {},
   "number_sections": true,
   "sideBar": true,
   "skip_h1_title": false,
   "title_cell": "Table of Contents",
   "title_sidebar": "Contents",
   "toc_cell": false,
   "toc_position": {},
   "toc_section_display": true,
   "toc_window_display": false
  }
 },
 "nbformat": 4,
 "nbformat_minor": 2
}
