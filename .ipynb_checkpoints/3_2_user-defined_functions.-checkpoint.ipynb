{
 "cells": [
  {
   "cell_type": "markdown",
   "metadata": {},
   "source": [
    "# 定义函数\n",
    "\n",
    "## 定义和调用函数\n",
    "\n",
    "在Python中，定义一个函数要使用 `def` 语句，依次写出函数名、括号、括号中的参数和冒号:，然后，在缩进块中编写函数体，函数的返回值用 `return` 语句返回。\n",
    "\n",
    "我们以自定义一个求绝对值的 `my_abs` 函数为例："
   ]
  },
  {
   "cell_type": "code",
   "execution_count": null,
   "metadata": {},
   "outputs": [],
   "source": [
    "# -*- coding: utf-8 -*-\n",
    "def my_abs(x):\n",
    "    if x >= 0:\n",
    "        return x\n",
    "    else:\n",
    "        return -x\n",
    "\n",
    "print(my_abs(-99))\n"
   ]
  },
  {
   "cell_type": "markdown",
   "metadata": {},
   "source": [
    "请自行测试并调用 `my_abs` 看看返回结果是否正确。\n",
    "\n",
    "请注意，函数体内部的语句在执行时，一旦执行到 `return` 时，函数就执行完毕，并将结果返回。因此，函数内部通过条件判断和循环可以实现非常复杂的逻辑。\n",
    "\n",
    "如果没有 `return` 语句，函数执行完毕后也会返回结果，只是结果为 `None` 。 `return None` 可以简写为 `return` 。\n",
    "\n",
    "在Python交互环境中定义函数时，注意Python会出现...的提示。函数定义结束后需要按两次回车重新回到 `>>>` 提示符下：\n",
    "\n",
    "\n",
    "```python\n",
    "Command Prompt - python                          \n",
    "──────────────────\n",
    ">>> def my_abs(x):\n",
    "...     if x >= 0:\n",
    "...         return x\n",
    "...     else:\n",
    "...         return -x│\n",
    "...\n",
    ">>> my_abs(-9)\n",
    "9\n",
    ">>> _```\n",
    "          \n",
    "如果你已经把 `my_abs()` 的函数定义保存为 `abstest.py` 文件了，那么，可以在该文件的当前目录下启动Python解释器，用 `from abstest import my_abs来导入my_abs()` 函数，注意 `abstest` 是文件名（不含 `.py` 扩展名）：\n",
    "\n",
    "```python\n",
    "Command Prompt - python \n",
    "──────────────────\n",
    ">>> from abstest import my_abs\n",
    ">>> my_abs(-9)\n",
    "9\n",
    ">>> _```\n",
    "\n",
    "\n",
    " `import` 的用法在后续模块一节中会详细介绍。\n",
    "\n",
    "## 空函数\n",
    "\n",
    "如果想定义一个什么事也不做的空函数，可以用 `pass` 语句："
   ]
  },
  {
   "cell_type": "markdown",
   "metadata": {},
   "source": [
    "```python\n",
    "def nop():\n",
    "    pass```"
   ]
  },
  {
   "cell_type": "markdown",
   "metadata": {},
   "source": [
    "    \n",
    "`pass` 语句什么都不做，那有什么用？实际上 `pass` 可以用来作为占位符，比如现在还没想好怎么写函数的代码，就可以先放一个 `pass` ，让代码能运行起来。\n",
    "\n",
    "`pass` 还可以用在其他语句里，比如："
   ]
  },
  {
   "cell_type": "markdown",
   "metadata": {},
   "source": [
    "```python\n",
    "if age >= 18:\n",
    "    pass```"
   ]
  },
  {
   "cell_type": "markdown",
   "metadata": {},
   "source": [
    "    \n",
    "缺少了pass，代码运行就会有语法错误。\n",
    "\n",
    "## 参数检查\n",
    "\n",
    "调用函数时，如果参数个数不对，Python解释器会自动检查出来，并抛出 `TypeError` ："
   ]
  },
  {
   "cell_type": "markdown",
   "metadata": {},
   "source": [
    "```python\n",
    ">>> my_abs(1, 2)\n",
    "Traceback (most recent call last):\n",
    "  File \"<stdin>\", line 1, in <module>\n",
    "TypeError: my_abs() takes 1 positional argument but 2 were given```"
   ]
  },
  {
   "cell_type": "markdown",
   "metadata": {},
   "source": [
    "但是如果参数类型不对，Python解释器就无法帮我们检查。试试 `my_abs` 和内置函数 `abs` 的差别："
   ]
  },
  {
   "cell_type": "markdown",
   "metadata": {},
   "source": [
    "```python\n",
    ">>> my_abs('A')\n",
    "Traceback (most recent call last):\n",
    "  File \"<stdin>\", line 1, in <module>\n",
    "  File \"<stdin>\", line 2, in my_abs\n",
    "TypeError: unorderable types: str() >= int()\n",
    ">>> abs('A')\n",
    "Traceback (most recent call last):\n",
    "  File \"<stdin>\", line 1, in <module>\n",
    "TypeError: bad operand type for abs(): 'str'```"
   ]
  },
  {
   "cell_type": "markdown",
   "metadata": {},
   "source": [
    "当传入了不恰当的参数时，内置函数 `abs` 会检查出参数错误，而我们定义的 `my_abs` 没有参数检查，会导致 `if` 语句出错，出错信息和 `abs` 不一样。所以，这个函数定义不够完善。\n",
    "\n",
    "让我们修改一下 `my_abs` 的定义，对参数类型做检查，只允许整数和浮点数类型的参数。数据类型检查可以用内置函数 `isinstance()` 实现："
   ]
  },
  {
   "cell_type": "markdown",
   "metadata": {},
   "source": [
    "```python\n",
    "def my_abs(x):\n",
    "    if not isinstance(x, (int, float)):\n",
    "        raise TypeError('bad operand type')\n",
    "    if x >= 0:\n",
    "        return x\n",
    "    else:\n",
    "        return -x```"
   ]
  },
  {
   "cell_type": "markdown",
   "metadata": {},
   "source": [
    "        \n",
    "添加了参数检查后，如果传入错误的参数类型，函数就可以抛出一个错误："
   ]
  },
  {
   "cell_type": "markdown",
   "metadata": {},
   "source": [
    "```python\n",
    ">>> my_abs('A')\n",
    "Traceback (most recent call last):\n",
    "  File \"<stdin>\", line 1, in <module>\n",
    "  File \"<stdin>\", line 3, in my_abs\n",
    "TypeError: bad operand type```"
   ]
  },
  {
   "cell_type": "markdown",
   "metadata": {},
   "source": [
    "错误和异常处理将在后续讲到。\n",
    "\n",
    "## 返回多个值\n",
    "\n",
    "函数可以返回多个值吗？答案是肯定的。\n",
    "\n",
    "比如在游戏中经常需要从一个点移动到另一个点，给出坐标、位移和角度，就可以计算出新的新的坐标："
   ]
  },
  {
   "cell_type": "markdown",
   "metadata": {},
   "source": [
    "```python\n",
    "import math\n",
    "\n",
    "def move(x, y, step, angle=0):\n",
    "    nx = x + step * math.cos(angle)\n",
    "    ny = y - step * math.sin(angle)\n",
    "    return nx, ny```"
   ]
  },
  {
   "cell_type": "markdown",
   "metadata": {},
   "source": [
    "import math语句表示导入math包，并允许后续代码引用math包里的sin、cos等函数。\n",
    "\n",
    "然后，我们就可以同时获得返回值："
   ]
  },
  {
   "cell_type": "markdown",
   "metadata": {},
   "source": [
    "```python\n",
    ">>> x, y = move(100, 100, 60, math.pi / 6)\n",
    ">>> print(x, y)\n",
    "151.96152422706632 70.0```"
   ]
  },
  {
   "cell_type": "markdown",
   "metadata": {},
   "source": [
    "但其实这只是一种假象，Python函数返回的仍然是单一值：\n",
    "```python\n",
    ">>> r = move(100, 100, 60, math.pi / 6)\n",
    ">>> print(r)\n",
    "(151.96152422706632, 70.0)```\n",
    "\n",
    "原来返回值是一个tuple！但是，在语法上，返回一个tuple可以省略括号，而多个变量可以同时接收一个tuple，按位置赋给对应的值，所以，Python的函数返回多值其实就是返回一个tuple，但写起来更方便。\n",
    "\n",
    "## 小结\n",
    "\n",
    "定义函数时，需要确定函数名和参数个数；\n",
    "\n",
    "如果有必要，可以先对参数的数据类型做检查；\n",
    "\n",
    "函数体内部可以用 `return` 随时返回函数结果；\n",
    "\n",
    "函数执行完毕也没有 `return` 语句时，自动 `return None` 。\n",
    "\n",
    "函数可以同时返回多个值，但其实就是一个tuple。\n",
    "\n",
    "## 练习\n",
    "\n",
    "请定义一个函数 `quadratic(a, b, c)` ，接收3个参数，返回一元二次方程 $ax^2+bx+c=0$的两个解。\n",
    "\n",
    "提示：\n",
    "\n",
    "一元二次方程的求根公式为：\n",
    "\n",
    "$x=\\frac{-b\\pm\\sqrt{b^2-4ac}}{2a}$\n",
    "\n",
    "计算平方根可以调用 `math.sqrt()` 函数：\n",
    "\n",
    "```python\n",
    ">>> import math\n",
    ">>> math.sqrt(2)\n",
    "1.4142135623730951```"
   ]
  },
  {
   "cell_type": "code",
   "execution_count": null,
   "metadata": {},
   "outputs": [],
   "source": [
    "# -*- coding: utf-8 -*-\n",
    "\n",
    "import math\n",
    "\n",
    "def quadratic(a, b, c):\n",
    "\n",
    "    pass\n"
   ]
  },
  {
   "cell_type": "markdown",
   "metadata": {},
   "source": [
    "## 测试:\n",
    "```python\n",
    "print('quadratic(2, 3, 1) =', quadratic(2, 3, 1))\n",
    "print('quadratic(1, 3, -4) =', quadratic(1, 3, -4))\n",
    "\n",
    "if quadratic(2, 3, 1) != (-0.5, -1.0):\n",
    "    print('测试失败')\n",
    "elif quadratic(1, 3, -4) != (1.0, -4.0):\n",
    "    print('测试失败')\n",
    "else:\n",
    "    print('测试成功')```\n"
   ]
  },
  {
   "cell_type": "code",
   "execution_count": null,
   "metadata": {},
   "outputs": [],
   "source": []
  },
  {
   "cell_type": "code",
   "execution_count": null,
   "metadata": {},
   "outputs": [],
   "source": []
  }
 ],
 "metadata": {
  "kernelspec": {
   "display_name": "Python 3",
   "language": "python",
   "name": "python3"
  },
  "language_info": {
   "codemirror_mode": {
    "name": "ipython",
    "version": 3
   },
   "file_extension": ".py",
   "mimetype": "text/x-python",
   "name": "python",
   "nbconvert_exporter": "python",
   "pygments_lexer": "ipython3",
   "version": "3.7.2"
  },
  "toc": {
   "base_numbering": 1,
   "nav_menu": {},
   "number_sections": false,
   "sideBar": true,
   "skip_h1_title": false,
   "title_cell": "Table of Contents",
   "title_sidebar": "Contents",
   "toc_cell": false,
   "toc_position": {},
   "toc_section_display": true,
   "toc_window_display": true
  }
 },
 "nbformat": 4,
 "nbformat_minor": 2
}
